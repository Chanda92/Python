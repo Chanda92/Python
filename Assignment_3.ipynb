{
 "cells": [
  {
   "cell_type": "markdown",
   "metadata": {},
   "source": [
    "# 1.1 Write a Python Program to implement your own myreduce() function which works exactly like Python's built-in function reduce()"
   ]
  },
  {
   "cell_type": "code",
   "execution_count": 9,
   "metadata": {},
   "outputs": [
    {
     "name": "stdout",
     "output_type": "stream",
     "text": [
      "Enter the number5\n",
      "Enter the list element1\n",
      "Enter the list element2\n",
      "Enter the list element3\n",
      "Enter the list element4\n",
      "Enter the list element5\n",
      "[1, 2, 3, 4, 5]\n",
      "15\n"
     ]
    }
   ],
   "source": [
    "def myreduce():\n",
    "    lst = []\n",
    "    num = int(input(\"Enter the number\"))\n",
    "    for i in range(0, num): \n",
    "        val = int(input(\"Enter the list element\")) \n",
    "  \n",
    "        lst.append(val) # adding the element \n",
    "      \n",
    "    print(lst) \n",
    "    count = 0\n",
    "    for num in lst:\n",
    "        count = num+ count\n",
    "    print(count)\n",
    "myreduce()"
   ]
  },
  {
   "cell_type": "markdown",
   "metadata": {},
   "source": [
    "# 1.2 Write a Python program to implement your own myfilter() function which works exactly like Python's built-in function filter()"
   ]
  },
  {
   "cell_type": "code",
   "execution_count": 10,
   "metadata": {},
   "outputs": [
    {
     "name": "stdout",
     "output_type": "stream",
     "text": [
      "Enter the range of index5\n",
      "Enter the list element1\n",
      "Enter the list element2\n",
      "Enter the list element3\n",
      "Enter the list element4\n",
      "Enter the list element5\n",
      "[1, 2, 3, 4, 5]\n",
      "[2, 4]\n"
     ]
    }
   ],
   "source": [
    "def myfilter():\n",
    "    lst = []\n",
    "    num = int(input(\"Enter the range of index\"))\n",
    "    for i in range(0, num): \n",
    "        val = int(input(\"Enter the list element\")) \n",
    "  \n",
    "        lst.append(val) # adding the element \n",
    "      \n",
    "    print(lst)\n",
    "    value = [x for x in list(lst) if x % 2==0]\n",
    "    print(value)\n",
    "        \n",
    "myfilter()"
   ]
  },
  {
   "cell_type": "markdown",
   "metadata": {},
   "source": [
    "# 2. Implement List comprehensions to produce the following lists.\n",
    "Write List comprehensions to produce the following Lists\n",
    "['A', 'C', 'A', 'D', 'G', 'I', ’L’, ‘ D’]\n",
    "['x', 'xx', 'xxx', 'xxxx', 'y', 'yy', 'yyy', 'yyyy', 'z', 'zz', 'zzz', 'zzzz']\n",
    "['x', 'y', 'z', 'xx', 'yy', 'zz', 'xxx', 'yyy', 'zzz', 'xxxx', 'yyyy', 'zzzz']\n",
    "[[2], [3], [4], [3], [4], [5], [4], [5], [6]] [[2, 3, 4, 5], [3, 4, 5, 6],\n",
    "[4, 5, 6, 7], [5, 6, 7, 8]]\n",
    "[(1, 1), (2, 1), (3, 1), (1, 2), (2, 2), (3, 2), (1, 3), (2, 3), (3, 3)]"
   ]
  },
  {
   "cell_type": "code",
   "execution_count": 11,
   "metadata": {},
   "outputs": [
    {
     "name": "stdout",
     "output_type": "stream",
     "text": [
      "['A', 'C', 'A', 'D', 'G', 'I', 'L', 'D']\n",
      "['x', 'xx', 'xxx', 'xxxx', 'y', 'yy', 'yyy', 'yyyy', 'z', 'zz', 'zzz', 'zzzz']\n",
      "['x', 'y', 'z', 'xx', 'yy', 'zz', 'xxx', 'yyy', 'zzz', 'xxxx', 'yyyy', 'zzzz']\n",
      "[[2], [3], [4], [3], [4], [5], [4], [5], [6]]\n",
      "[[2], [3], [4], [5], [3], [4], [5], [6], [4], [5], [6], [7], [5], [6], [7], [8]]\n",
      "[(1, 1), (2, 1), (3, 1), (1, 2), (2, 2), (3, 2), (1, 3), (2, 3), (3, 3)]\n"
     ]
    }
   ],
   "source": [
    "# Section 1:   ['A', 'C', 'A', 'D', 'G', 'I', ’L’, ‘ D’]\n",
    "word = 'ACADGILD'\n",
    "comp1 = [i for i in list(word)]\n",
    "print(comp1)\n",
    "\n",
    "# Section 2:   ['x', 'xx', 'xxx', 'xxxx', 'y', 'yy', 'yyy', 'yyyy', 'z', 'zz', 'zzz', 'zzzz']\n",
    "word1 = 'xyz'\n",
    "comp2 = [i*j for i in list(word1) for j in range(1,5)]\n",
    "print(comp2)\n",
    "\n",
    "#Section 3:   ['x', 'y', 'z', 'xx', 'yy', 'zz', 'xxx', 'yyy', 'zzz', 'xxxx', 'yyyy', 'zzzz']\n",
    "comp3 = [i*j for j in range(1,5) for i in list(word1)]\n",
    "print(comp3)\n",
    "        \n",
    "# Section 4:   [[2], [3], [4], [3], [4], [5], [4], [5], [6]]\n",
    "comp4 = [[i+j] for j in range(3) for i in range(2,5)]\n",
    "print(comp4)\n",
    "\n",
    "# Section 5:  [[2, 3, 4, 5], [3, 4, 5, 6], [4, 5, 6, 7], [5, 6, 7, 8]]\n",
    "comp4 = [[i+j] for j in range(4) for i in range(2,6)]\n",
    "print(comp4)\n",
    "        \n",
    "# Section 6:  [(1, 1), (2, 1), (3, 1), (1, 2), (2, 2), (3, 2), (1, 3), (2, 3), (3, 3)]\n",
    "comp5= [(j,i) for i in range(1,4) for j in range(1,4) ]\n",
    "print(comp5)"
   ]
  },
  {
   "cell_type": "code",
   "execution_count": null,
   "metadata": {},
   "outputs": [],
   "source": [
    "# Section 1:   ['A', 'C', 'A', 'D', 'G', 'I', ’L’, ‘ D’]\n",
    "word = 'ACADGILD'\n",
    "for i in list(word):\n",
    "    print(list(i))\n",
    "    \n",
    "    \n",
    "# Section 2:   ['x', 'xx', 'xxx', 'xxxx', 'y', 'yy', 'yyy', 'yyyy', 'z', 'zz', 'zzz', 'zzzz']\n",
    "word1 = 'xyz'\n",
    "for i in list(word1):\n",
    "    for j in range(1,5):   # j is a no. of counts\n",
    "        print(list(i*j))\n",
    "        \n",
    "#Section 3:   ['x', 'y', 'z', 'xx', 'yy', 'zz', 'xxx', 'yyy', 'zzz', 'xxxx', 'yyyy', 'zzzz']\n",
    "for j in range(1,5):\n",
    "    for i in list(word1):\n",
    "        print(i*j)\n",
    "        \n",
    "# Section 4:   [[2], [3], [4], [3], [4], [5], [4], [5], [6]]\n",
    "a = [[i+j] for j in range(3) for i in range(2,5)]\n",
    "a\n",
    "# Section 5:  [[2, 3, 4, 5], [3, 4, 5, 6], [4, 5, 6, 7], [5, 6, 7, 8]]\n",
    "no = [2,3,4,5]\n",
    "for j in range(4):\n",
    "    for i in no:\n",
    "        print(i+j)\n",
    "        \n",
    "# Section 6:  [(1, 1), (2, 1), (3, 1), (1, 2), (2, 2), (3, 2), (1, 3), (2, 3), (3, 3)]\n",
    "no1 = [1,2,3]\n",
    "for i in no1:\n",
    "    for j in no1:\n",
    "        print(j,i)"
   ]
  }
 ],
 "metadata": {
  "kernelspec": {
   "display_name": "Python 3",
   "language": "python",
   "name": "python3"
  },
  "language_info": {
   "codemirror_mode": {
    "name": "ipython",
    "version": 3
   },
   "file_extension": ".py",
   "mimetype": "text/x-python",
   "name": "python",
   "nbconvert_exporter": "python",
   "pygments_lexer": "ipython3",
   "version": "3.7.6"
  }
 },
 "nbformat": 4,
 "nbformat_minor": 4
}
